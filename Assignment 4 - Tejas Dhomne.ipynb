{
 "cells": [
  {
   "cell_type": "code",
   "execution_count": 1,
   "metadata": {},
   "outputs": [],
   "source": [
    "import pandas as pd\n",
    "import numpy as np\n",
    "import pandas_datareader as pdr\n",
    "from scipy.optimize import minimize\n",
    "import matplotlib.pyplot as plt"
   ]
  },
  {
   "cell_type": "markdown",
   "metadata": {},
   "source": [
    "### 1"
   ]
  },
  {
   "cell_type": "code",
   "execution_count": 2,
   "metadata": {},
   "outputs": [],
   "source": [
    "l1=['AAPL','AMZN','META','GOOGL','IBM','INTC','MSFT','ORCL','WMT']"
   ]
  },
  {
   "cell_type": "code",
   "execution_count": 3,
   "metadata": {},
   "outputs": [
    {
     "data": {
      "text/html": [
       "<div>\n",
       "<style scoped>\n",
       "    .dataframe tbody tr th:only-of-type {\n",
       "        vertical-align: middle;\n",
       "    }\n",
       "\n",
       "    .dataframe tbody tr th {\n",
       "        vertical-align: top;\n",
       "    }\n",
       "\n",
       "    .dataframe thead th {\n",
       "        text-align: right;\n",
       "    }\n",
       "</style>\n",
       "<table border=\"1\" class=\"dataframe\">\n",
       "  <thead>\n",
       "    <tr style=\"text-align: right;\">\n",
       "      <th>Symbols</th>\n",
       "      <th>AAPL</th>\n",
       "      <th>AMZN</th>\n",
       "      <th>META</th>\n",
       "      <th>GOOGL</th>\n",
       "      <th>IBM</th>\n",
       "      <th>INTC</th>\n",
       "      <th>MSFT</th>\n",
       "      <th>ORCL</th>\n",
       "      <th>WMT</th>\n",
       "    </tr>\n",
       "    <tr>\n",
       "      <th>Date</th>\n",
       "      <th></th>\n",
       "      <th></th>\n",
       "      <th></th>\n",
       "      <th></th>\n",
       "      <th></th>\n",
       "      <th></th>\n",
       "      <th></th>\n",
       "      <th></th>\n",
       "      <th></th>\n",
       "    </tr>\n",
       "  </thead>\n",
       "  <tbody>\n",
       "    <tr>\n",
       "      <th>2019-01-02</th>\n",
       "      <td>38.168343</td>\n",
       "      <td>76.956497</td>\n",
       "      <td>135.679993</td>\n",
       "      <td>52.734001</td>\n",
       "      <td>91.668594</td>\n",
       "      <td>42.586578</td>\n",
       "      <td>97.147690</td>\n",
       "      <td>42.296158</td>\n",
       "      <td>87.534355</td>\n",
       "    </tr>\n",
       "    <tr>\n",
       "      <th>2019-01-03</th>\n",
       "      <td>34.366497</td>\n",
       "      <td>75.014000</td>\n",
       "      <td>131.740005</td>\n",
       "      <td>51.273499</td>\n",
       "      <td>89.838562</td>\n",
       "      <td>40.243778</td>\n",
       "      <td>93.573830</td>\n",
       "      <td>41.884602</td>\n",
       "      <td>87.084213</td>\n",
       "    </tr>\n",
       "    <tr>\n",
       "      <th>2019-01-04</th>\n",
       "      <td>35.833584</td>\n",
       "      <td>78.769501</td>\n",
       "      <td>137.949997</td>\n",
       "      <td>53.903500</td>\n",
       "      <td>93.347450</td>\n",
       "      <td>42.713211</td>\n",
       "      <td>97.925873</td>\n",
       "      <td>43.689804</td>\n",
       "      <td>87.628143</td>\n",
       "    </tr>\n",
       "    <tr>\n",
       "      <th>2019-01-07</th>\n",
       "      <td>35.753819</td>\n",
       "      <td>81.475502</td>\n",
       "      <td>138.050003</td>\n",
       "      <td>53.796001</td>\n",
       "      <td>94.007866</td>\n",
       "      <td>42.912209</td>\n",
       "      <td>98.050781</td>\n",
       "      <td>44.381969</td>\n",
       "      <td>88.659721</td>\n",
       "    </tr>\n",
       "    <tr>\n",
       "      <th>2019-01-08</th>\n",
       "      <td>36.435398</td>\n",
       "      <td>82.829002</td>\n",
       "      <td>142.529999</td>\n",
       "      <td>54.268501</td>\n",
       "      <td>95.344566</td>\n",
       "      <td>43.183578</td>\n",
       "      <td>98.761726</td>\n",
       "      <td>44.784164</td>\n",
       "      <td>89.278671</td>\n",
       "    </tr>\n",
       "    <tr>\n",
       "      <th>...</th>\n",
       "      <td>...</td>\n",
       "      <td>...</td>\n",
       "      <td>...</td>\n",
       "      <td>...</td>\n",
       "      <td>...</td>\n",
       "      <td>...</td>\n",
       "      <td>...</td>\n",
       "      <td>...</td>\n",
       "      <td>...</td>\n",
       "    </tr>\n",
       "    <tr>\n",
       "      <th>2019-12-24</th>\n",
       "      <td>69.738731</td>\n",
       "      <td>89.460503</td>\n",
       "      <td>205.119995</td>\n",
       "      <td>67.221497</td>\n",
       "      <td>112.550056</td>\n",
       "      <td>55.080463</td>\n",
       "      <td>153.433289</td>\n",
       "      <td>50.837082</td>\n",
       "      <td>114.346443</td>\n",
       "    </tr>\n",
       "    <tr>\n",
       "      <th>2019-12-26</th>\n",
       "      <td>71.122368</td>\n",
       "      <td>93.438499</td>\n",
       "      <td>207.789993</td>\n",
       "      <td>68.123497</td>\n",
       "      <td>112.491669</td>\n",
       "      <td>55.460583</td>\n",
       "      <td>154.690887</td>\n",
       "      <td>50.960747</td>\n",
       "      <td>114.355995</td>\n",
       "    </tr>\n",
       "    <tr>\n",
       "      <th>2019-12-27</th>\n",
       "      <td>71.095375</td>\n",
       "      <td>93.489998</td>\n",
       "      <td>208.100006</td>\n",
       "      <td>67.732002</td>\n",
       "      <td>112.791870</td>\n",
       "      <td>55.701633</td>\n",
       "      <td>154.973633</td>\n",
       "      <td>50.856094</td>\n",
       "      <td>114.422966</td>\n",
       "    </tr>\n",
       "    <tr>\n",
       "      <th>2019-12-30</th>\n",
       "      <td>71.517334</td>\n",
       "      <td>92.344498</td>\n",
       "      <td>204.410004</td>\n",
       "      <td>66.985497</td>\n",
       "      <td>110.740646</td>\n",
       "      <td>55.275146</td>\n",
       "      <td>153.638000</td>\n",
       "      <td>50.133118</td>\n",
       "      <td>114.241196</td>\n",
       "    </tr>\n",
       "    <tr>\n",
       "      <th>2019-12-31</th>\n",
       "      <td>72.039871</td>\n",
       "      <td>92.391998</td>\n",
       "      <td>205.250000</td>\n",
       "      <td>66.969498</td>\n",
       "      <td>111.766243</td>\n",
       "      <td>55.488400</td>\n",
       "      <td>153.745239</td>\n",
       "      <td>50.399479</td>\n",
       "      <td>113.705383</td>\n",
       "    </tr>\n",
       "  </tbody>\n",
       "</table>\n",
       "<p>252 rows × 9 columns</p>\n",
       "</div>"
      ],
      "text/plain": [
       "Symbols          AAPL       AMZN        META      GOOGL         IBM  \\\n",
       "Date                                                                  \n",
       "2019-01-02  38.168343  76.956497  135.679993  52.734001   91.668594   \n",
       "2019-01-03  34.366497  75.014000  131.740005  51.273499   89.838562   \n",
       "2019-01-04  35.833584  78.769501  137.949997  53.903500   93.347450   \n",
       "2019-01-07  35.753819  81.475502  138.050003  53.796001   94.007866   \n",
       "2019-01-08  36.435398  82.829002  142.529999  54.268501   95.344566   \n",
       "...               ...        ...         ...        ...         ...   \n",
       "2019-12-24  69.738731  89.460503  205.119995  67.221497  112.550056   \n",
       "2019-12-26  71.122368  93.438499  207.789993  68.123497  112.491669   \n",
       "2019-12-27  71.095375  93.489998  208.100006  67.732002  112.791870   \n",
       "2019-12-30  71.517334  92.344498  204.410004  66.985497  110.740646   \n",
       "2019-12-31  72.039871  92.391998  205.250000  66.969498  111.766243   \n",
       "\n",
       "Symbols          INTC        MSFT       ORCL         WMT  \n",
       "Date                                                      \n",
       "2019-01-02  42.586578   97.147690  42.296158   87.534355  \n",
       "2019-01-03  40.243778   93.573830  41.884602   87.084213  \n",
       "2019-01-04  42.713211   97.925873  43.689804   87.628143  \n",
       "2019-01-07  42.912209   98.050781  44.381969   88.659721  \n",
       "2019-01-08  43.183578   98.761726  44.784164   89.278671  \n",
       "...               ...         ...        ...         ...  \n",
       "2019-12-24  55.080463  153.433289  50.837082  114.346443  \n",
       "2019-12-26  55.460583  154.690887  50.960747  114.355995  \n",
       "2019-12-27  55.701633  154.973633  50.856094  114.422966  \n",
       "2019-12-30  55.275146  153.638000  50.133118  114.241196  \n",
       "2019-12-31  55.488400  153.745239  50.399479  113.705383  \n",
       "\n",
       "[252 rows x 9 columns]"
      ]
     },
     "execution_count": 3,
     "metadata": {},
     "output_type": "execute_result"
    }
   ],
   "source": [
    "df1 = pdr.get_data_yahoo(l1, start='2019-01-01',end='2019-12-31')[\"Adj Close\"]\n",
    "df1"
   ]
  },
  {
   "cell_type": "markdown",
   "metadata": {},
   "source": [
    "### 1.1 "
   ]
  },
  {
   "cell_type": "code",
   "execution_count": 6,
   "metadata": {},
   "outputs": [
    {
     "data": {
      "text/html": [
       "<div>\n",
       "<style scoped>\n",
       "    .dataframe tbody tr th:only-of-type {\n",
       "        vertical-align: middle;\n",
       "    }\n",
       "\n",
       "    .dataframe tbody tr th {\n",
       "        vertical-align: top;\n",
       "    }\n",
       "\n",
       "    .dataframe thead th {\n",
       "        text-align: right;\n",
       "    }\n",
       "</style>\n",
       "<table border=\"1\" class=\"dataframe\">\n",
       "  <thead>\n",
       "    <tr style=\"text-align: right;\">\n",
       "      <th></th>\n",
       "      <th>AAPL</th>\n",
       "      <th>AMZN</th>\n",
       "      <th>META</th>\n",
       "      <th>GOOGL</th>\n",
       "      <th>IBM</th>\n",
       "      <th>INTC</th>\n",
       "      <th>MSFT</th>\n",
       "      <th>ORCL</th>\n",
       "      <th>WMT</th>\n",
       "    </tr>\n",
       "    <tr>\n",
       "      <th>Date</th>\n",
       "      <th></th>\n",
       "      <th></th>\n",
       "      <th></th>\n",
       "      <th></th>\n",
       "      <th></th>\n",
       "      <th></th>\n",
       "      <th></th>\n",
       "      <th></th>\n",
       "      <th></th>\n",
       "    </tr>\n",
       "  </thead>\n",
       "  <tbody>\n",
       "    <tr>\n",
       "      <th>2019-01-03</th>\n",
       "      <td>-0.104924</td>\n",
       "      <td>-0.025566</td>\n",
       "      <td>-0.029469</td>\n",
       "      <td>-0.028086</td>\n",
       "      <td>-0.020166</td>\n",
       "      <td>-0.056584</td>\n",
       "      <td>-0.037482</td>\n",
       "      <td>-0.009778</td>\n",
       "      <td>-0.005156</td>\n",
       "    </tr>\n",
       "    <tr>\n",
       "      <th>2019-01-04</th>\n",
       "      <td>0.041803</td>\n",
       "      <td>0.048851</td>\n",
       "      <td>0.046061</td>\n",
       "      <td>0.050021</td>\n",
       "      <td>0.038314</td>\n",
       "      <td>0.059553</td>\n",
       "      <td>0.045460</td>\n",
       "      <td>0.042197</td>\n",
       "      <td>0.006227</td>\n",
       "    </tr>\n",
       "    <tr>\n",
       "      <th>2019-01-07</th>\n",
       "      <td>-0.002228</td>\n",
       "      <td>0.033777</td>\n",
       "      <td>0.000725</td>\n",
       "      <td>-0.001996</td>\n",
       "      <td>0.007050</td>\n",
       "      <td>0.004648</td>\n",
       "      <td>0.001275</td>\n",
       "      <td>0.015719</td>\n",
       "      <td>0.011703</td>\n",
       "    </tr>\n",
       "    <tr>\n",
       "      <th>2019-01-08</th>\n",
       "      <td>0.018884</td>\n",
       "      <td>0.016476</td>\n",
       "      <td>0.031937</td>\n",
       "      <td>0.008745</td>\n",
       "      <td>0.014119</td>\n",
       "      <td>0.006304</td>\n",
       "      <td>0.007225</td>\n",
       "      <td>0.009021</td>\n",
       "      <td>0.006957</td>\n",
       "    </tr>\n",
       "    <tr>\n",
       "      <th>2019-01-09</th>\n",
       "      <td>0.016839</td>\n",
       "      <td>0.001713</td>\n",
       "      <td>0.011857</td>\n",
       "      <td>-0.003433</td>\n",
       "      <td>0.007151</td>\n",
       "      <td>0.005640</td>\n",
       "      <td>0.014198</td>\n",
       "      <td>-0.002091</td>\n",
       "      <td>-0.003262</td>\n",
       "    </tr>\n",
       "    <tr>\n",
       "      <th>...</th>\n",
       "      <td>...</td>\n",
       "      <td>...</td>\n",
       "      <td>...</td>\n",
       "      <td>...</td>\n",
       "      <td>...</td>\n",
       "      <td>...</td>\n",
       "      <td>...</td>\n",
       "      <td>...</td>\n",
       "      <td>...</td>\n",
       "    </tr>\n",
       "    <tr>\n",
       "      <th>2019-12-24</th>\n",
       "      <td>0.000950</td>\n",
       "      <td>-0.002116</td>\n",
       "      <td>-0.005154</td>\n",
       "      <td>-0.004601</td>\n",
       "      <td>-0.004214</td>\n",
       "      <td>0.003034</td>\n",
       "      <td>-0.000190</td>\n",
       "      <td>-0.005040</td>\n",
       "      <td>0.004025</td>\n",
       "    </tr>\n",
       "    <tr>\n",
       "      <th>2019-12-26</th>\n",
       "      <td>0.019646</td>\n",
       "      <td>0.043506</td>\n",
       "      <td>0.012933</td>\n",
       "      <td>0.013329</td>\n",
       "      <td>-0.000519</td>\n",
       "      <td>0.006877</td>\n",
       "      <td>0.008163</td>\n",
       "      <td>0.002430</td>\n",
       "      <td>0.000084</td>\n",
       "    </tr>\n",
       "    <tr>\n",
       "      <th>2019-12-27</th>\n",
       "      <td>-0.000380</td>\n",
       "      <td>0.000551</td>\n",
       "      <td>0.001491</td>\n",
       "      <td>-0.005763</td>\n",
       "      <td>0.002665</td>\n",
       "      <td>0.004337</td>\n",
       "      <td>0.001826</td>\n",
       "      <td>-0.002056</td>\n",
       "      <td>0.000585</td>\n",
       "    </tr>\n",
       "    <tr>\n",
       "      <th>2019-12-30</th>\n",
       "      <td>0.005918</td>\n",
       "      <td>-0.012328</td>\n",
       "      <td>-0.017891</td>\n",
       "      <td>-0.011083</td>\n",
       "      <td>-0.018353</td>\n",
       "      <td>-0.007686</td>\n",
       "      <td>-0.008656</td>\n",
       "      <td>-0.014318</td>\n",
       "      <td>-0.001590</td>\n",
       "    </tr>\n",
       "    <tr>\n",
       "      <th>2019-12-31</th>\n",
       "      <td>0.007280</td>\n",
       "      <td>0.000514</td>\n",
       "      <td>0.004101</td>\n",
       "      <td>-0.000239</td>\n",
       "      <td>0.009219</td>\n",
       "      <td>0.003851</td>\n",
       "      <td>0.000698</td>\n",
       "      <td>0.005299</td>\n",
       "      <td>-0.004701</td>\n",
       "    </tr>\n",
       "  </tbody>\n",
       "</table>\n",
       "<p>251 rows × 9 columns</p>\n",
       "</div>"
      ],
      "text/plain": [
       "                AAPL      AMZN      META     GOOGL       IBM      INTC  \\\n",
       "Date                                                                     \n",
       "2019-01-03 -0.104924 -0.025566 -0.029469 -0.028086 -0.020166 -0.056584   \n",
       "2019-01-04  0.041803  0.048851  0.046061  0.050021  0.038314  0.059553   \n",
       "2019-01-07 -0.002228  0.033777  0.000725 -0.001996  0.007050  0.004648   \n",
       "2019-01-08  0.018884  0.016476  0.031937  0.008745  0.014119  0.006304   \n",
       "2019-01-09  0.016839  0.001713  0.011857 -0.003433  0.007151  0.005640   \n",
       "...              ...       ...       ...       ...       ...       ...   \n",
       "2019-12-24  0.000950 -0.002116 -0.005154 -0.004601 -0.004214  0.003034   \n",
       "2019-12-26  0.019646  0.043506  0.012933  0.013329 -0.000519  0.006877   \n",
       "2019-12-27 -0.000380  0.000551  0.001491 -0.005763  0.002665  0.004337   \n",
       "2019-12-30  0.005918 -0.012328 -0.017891 -0.011083 -0.018353 -0.007686   \n",
       "2019-12-31  0.007280  0.000514  0.004101 -0.000239  0.009219  0.003851   \n",
       "\n",
       "                MSFT      ORCL       WMT  \n",
       "Date                                      \n",
       "2019-01-03 -0.037482 -0.009778 -0.005156  \n",
       "2019-01-04  0.045460  0.042197  0.006227  \n",
       "2019-01-07  0.001275  0.015719  0.011703  \n",
       "2019-01-08  0.007225  0.009021  0.006957  \n",
       "2019-01-09  0.014198 -0.002091 -0.003262  \n",
       "...              ...       ...       ...  \n",
       "2019-12-24 -0.000190 -0.005040  0.004025  \n",
       "2019-12-26  0.008163  0.002430  0.000084  \n",
       "2019-12-27  0.001826 -0.002056  0.000585  \n",
       "2019-12-30 -0.008656 -0.014318 -0.001590  \n",
       "2019-12-31  0.000698  0.005299 -0.004701  \n",
       "\n",
       "[251 rows x 9 columns]"
      ]
     },
     "execution_count": 6,
     "metadata": {},
     "output_type": "execute_result"
    }
   ],
   "source": [
    "df2=np.log(df1/df1.shift(1)).dropna()\n",
    "df2"
   ]
  },
  {
   "cell_type": "markdown",
   "metadata": {},
   "source": [
    "### 1.2"
   ]
  },
  {
   "cell_type": "code",
   "execution_count": 7,
   "metadata": {},
   "outputs": [
    {
     "data": {
      "text/plain": [
       "array([0.2       , 0.2030303 , 0.20606061, 0.20909091, 0.21212121,\n",
       "       0.21515152, 0.21818182, 0.22121212, 0.22424242, 0.22727273,\n",
       "       0.23030303, 0.23333333, 0.23636364, 0.23939394, 0.24242424,\n",
       "       0.24545455, 0.24848485, 0.25151515, 0.25454545, 0.25757576,\n",
       "       0.26060606, 0.26363636, 0.26666667, 0.26969697, 0.27272727,\n",
       "       0.27575758, 0.27878788, 0.28181818, 0.28484848, 0.28787879,\n",
       "       0.29090909, 0.29393939, 0.2969697 , 0.3       , 0.3030303 ,\n",
       "       0.30606061, 0.30909091, 0.31212121, 0.31515152, 0.31818182,\n",
       "       0.32121212, 0.32424242, 0.32727273, 0.33030303, 0.33333333,\n",
       "       0.33636364, 0.33939394, 0.34242424, 0.34545455, 0.34848485,\n",
       "       0.35151515, 0.35454545, 0.35757576, 0.36060606, 0.36363636,\n",
       "       0.36666667, 0.36969697, 0.37272727, 0.37575758, 0.37878788,\n",
       "       0.38181818, 0.38484848, 0.38787879, 0.39090909, 0.39393939,\n",
       "       0.3969697 , 0.4       , 0.4030303 , 0.40606061, 0.40909091,\n",
       "       0.41212121, 0.41515152, 0.41818182, 0.42121212, 0.42424242,\n",
       "       0.42727273, 0.43030303, 0.43333333, 0.43636364, 0.43939394,\n",
       "       0.44242424, 0.44545455, 0.44848485, 0.45151515, 0.45454545,\n",
       "       0.45757576, 0.46060606, 0.46363636, 0.46666667, 0.46969697,\n",
       "       0.47272727, 0.47575758, 0.47878788, 0.48181818, 0.48484848,\n",
       "       0.48787879, 0.49090909, 0.49393939, 0.4969697 , 0.5       ])"
      ]
     },
     "execution_count": 7,
     "metadata": {},
     "output_type": "execute_result"
    }
   ],
   "source": [
    "frontier_y=np.linspace(start=0.2,stop=0.5,num=100)\n",
    "frontier_y"
   ]
  },
  {
   "cell_type": "markdown",
   "metadata": {},
   "source": [
    "### 1.3 "
   ]
  },
  {
   "cell_type": "code",
   "execution_count": 8,
   "metadata": {},
   "outputs": [],
   "source": [
    "# objective function\n",
    "def std(weight):\n",
    "    std=np.dot(weight.T, np.dot(df2.cov()*250, weight))**0.5    \n",
    "    return std"
   ]
  },
  {
   "cell_type": "markdown",
   "metadata": {},
   "source": [
    "### 1.4 "
   ]
  },
  {
   "cell_type": "code",
   "execution_count": 9,
   "metadata": {},
   "outputs": [],
   "source": [
    "# sum of the weights minus one is zero\n",
    "def sum_weight(weight):\n",
    "    return np.sum(weight)-1"
   ]
  },
  {
   "cell_type": "code",
   "execution_count": 10,
   "metadata": {},
   "outputs": [],
   "source": [
    "def ret(weight):\n",
    "    ret=np.dot(df2.mean(),weight)*250  \n",
    "    return ret"
   ]
  },
  {
   "cell_type": "markdown",
   "metadata": {},
   "source": [
    "### 1.5 "
   ]
  },
  {
   "cell_type": "code",
   "execution_count": 11,
   "metadata": {},
   "outputs": [],
   "source": [
    "# lower and upper bounds \n",
    "bound = ((0, 1), (0, 1), (0, 1), (0, 1),(0, 1), (0, 1), (0, 1), (0, 1),(0,1))"
   ]
  },
  {
   "cell_type": "markdown",
   "metadata": {},
   "source": [
    "### 1.6 "
   ]
  },
  {
   "cell_type": "code",
   "execution_count": 12,
   "metadata": {},
   "outputs": [
    {
     "data": {
      "text/plain": [
       "array([0.11111111, 0.11111111, 0.11111111, 0.11111111, 0.11111111,\n",
       "       0.11111111, 0.11111111, 0.11111111, 0.11111111])"
      ]
     },
     "execution_count": 12,
     "metadata": {},
     "output_type": "execute_result"
    }
   ],
   "source": [
    "a1=np.array([1/9]*9)\n",
    "a1"
   ]
  },
  {
   "cell_type": "markdown",
   "metadata": {},
   "source": [
    "### 1.7  "
   ]
  },
  {
   "cell_type": "code",
   "execution_count": 13,
   "metadata": {},
   "outputs": [],
   "source": [
    "frontier_x=[]"
   ]
  },
  {
   "cell_type": "code",
   "execution_count": 14,
   "metadata": {},
   "outputs": [],
   "source": [
    "# for each return, find the portfolio with the minimum std\n",
    "for a_return in frontier_y:\n",
    "    constraint = ({'type':'eq','fun': sum_weight},{'type':'eq','fun': lambda weight: ret(weight)-a_return})\n",
    "    min_std=minimize(fun=std,x0=a1,method='SLSQP',bounds=bound,constraints=constraint)\n",
    "    frontier_x.append(round(min_std[\"fun\"],6))"
   ]
  },
  {
   "cell_type": "code",
   "execution_count": 16,
   "metadata": {},
   "outputs": [
    {
     "data": {
      "text/plain": [
       "[0.145994,\n",
       " 0.142931,\n",
       " 0.140114,\n",
       " 0.137559,\n",
       " 0.135281,\n",
       " 0.133294,\n",
       " 0.131606,\n",
       " 0.130176,\n",
       " 0.128993,\n",
       " 0.128063,\n",
       " 0.127395,\n",
       " 0.126989,\n",
       " 0.126778,\n",
       " 0.126621,\n",
       " 0.126515,\n",
       " 0.12643,\n",
       " 0.126357,\n",
       " 0.126297,\n",
       " 0.126253,\n",
       " 0.126224,\n",
       " 0.126211,\n",
       " 0.126213,\n",
       " 0.126227,\n",
       " 0.126253,\n",
       " 0.126291,\n",
       " 0.126341,\n",
       " 0.126404,\n",
       " 0.126478,\n",
       " 0.126564,\n",
       " 0.126663,\n",
       " 0.126773,\n",
       " 0.126895,\n",
       " 0.127029,\n",
       " 0.127175,\n",
       " 0.127333,\n",
       " 0.127503,\n",
       " 0.127684,\n",
       " 0.127876,\n",
       " 0.128085,\n",
       " 0.128308,\n",
       " 0.128547,\n",
       " 0.128801,\n",
       " 0.129071,\n",
       " 0.129355,\n",
       " 0.129655,\n",
       " 0.129969,\n",
       " 0.1303,\n",
       " 0.130648,\n",
       " 0.131013,\n",
       " 0.131394,\n",
       " 0.131792,\n",
       " 0.132208,\n",
       " 0.132639,\n",
       " 0.133087,\n",
       " 0.133551,\n",
       " 0.134031,\n",
       " 0.134526,\n",
       " 0.135042,\n",
       " 0.13559,\n",
       " 0.136171,\n",
       " 0.136785,\n",
       " 0.137431,\n",
       " 0.138109,\n",
       " 0.138818,\n",
       " 0.139557,\n",
       " 0.140326,\n",
       " 0.141125,\n",
       " 0.141954,\n",
       " 0.142811,\n",
       " 0.143696,\n",
       " 0.144609,\n",
       " 0.145548,\n",
       " 0.146515,\n",
       " 0.147508,\n",
       " 0.148526,\n",
       " 0.149569,\n",
       " 0.150638,\n",
       " 0.151729,\n",
       " 0.152844,\n",
       " 0.153982,\n",
       " 0.155144,\n",
       " 0.156328,\n",
       " 0.157535,\n",
       " 0.158765,\n",
       " 0.160015,\n",
       " 0.161287,\n",
       " 0.16258,\n",
       " 0.163892,\n",
       " 0.165225,\n",
       " 0.166576,\n",
       " 0.167946,\n",
       " 0.169334,\n",
       " 0.17074,\n",
       " 0.172164,\n",
       " 0.173604,\n",
       " 0.175061,\n",
       " 0.176534,\n",
       " 0.178023,\n",
       " 0.179527,\n",
       " 0.181046]"
      ]
     },
     "execution_count": 16,
     "metadata": {},
     "output_type": "execute_result"
    }
   ],
   "source": [
    "frontier_x"
   ]
  },
  {
   "cell_type": "markdown",
   "metadata": {},
   "source": [
    "### 1.8 "
   ]
  },
  {
   "cell_type": "code",
   "execution_count": 17,
   "metadata": {},
   "outputs": [
    {
     "data": {
      "image/png": "[encoded data removed]",
      "text/plain": [
       "<Figure size 720x360 with 1 Axes>"
      ]
     },
     "metadata": {
      "needs_background": "light"
     },
     "output_type": "display_data"
    }
   ],
   "source": [
    "plt.figure(figsize = (10, 5))\n",
    "plt.plot(frontier_x,frontier_y,marker=\"*\")\n",
    "plt.scatter(x=0.153483,y=0.438073,color=\"red\",s=100,marker=\"X\")\n",
    "plt.xlabel('standard deviation')\n",
    "plt.ylabel('return')\n",
    "plt.title('frontier');"
   ]
  },
  {
   "cell_type": "markdown",
   "metadata": {},
   "source": [
    "### 1.9"
   ]
  },
  {
   "cell_type": "code",
   "execution_count": 18,
   "metadata": {},
   "outputs": [
    {
     "data": {
      "text/plain": [
       "0.126211"
      ]
     },
     "execution_count": 18,
     "metadata": {},
     "output_type": "execute_result"
    }
   ],
   "source": [
    "min_std=min(frontier_x)\n",
    "min_std"
   ]
  },
  {
   "cell_type": "code",
   "execution_count": 19,
   "metadata": {},
   "outputs": [
    {
     "data": {
      "text/plain": [
       "20"
      ]
     },
     "execution_count": 19,
     "metadata": {},
     "output_type": "execute_result"
    }
   ],
   "source": [
    "frontier_x.index(min_std)"
   ]
  },
  {
   "cell_type": "markdown",
   "metadata": {},
   "source": [
    "### 1.10 "
   ]
  },
  {
   "cell_type": "code",
   "execution_count": 20,
   "metadata": {},
   "outputs": [
    {
     "data": {
      "image/png": "[encoded data removed]",
      "text/plain": [
       "<Figure size 720x360 with 1 Axes>"
      ]
     },
     "metadata": {
      "needs_background": "light"
     },
     "output_type": "display_data"
    }
   ],
   "source": [
    "plt.figure(figsize = (10, 5))\n",
    "plt.plot(frontier_x[20:],frontier_y[20:],marker=\"*\")\n",
    "plt.scatter(x=0.153483,y=0.438073,color=\"red\",s=100,marker=\"X\")\n",
    "plt.xlabel('standard deviation')\n",
    "plt.ylabel('return')\n",
    "plt.title('efficient frontier');"
   ]
  }
 ],
 "metadata": {
  "kernelspec": {
   "display_name": "Python 3 (ipykernel)",
   "language": "python",
   "name": "python3"
  },
  "language_info": {
   "codemirror_mode": {
    "name": "ipython",
    "version": 3
   },
   "file_extension": ".py",
   "mimetype": "text/x-python",
   "name": "python",
   "nbconvert_exporter": "python",
   "pygments_lexer": "ipython3",
   "version": "3.9.12"
  }
 },
 "nbformat": 4,
 "nbformat_minor": 4
}
